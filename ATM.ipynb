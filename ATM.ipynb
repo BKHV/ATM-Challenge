{
 "cells": [
  {
   "cell_type": "code",
   "execution_count": null,
   "metadata": {},
   "outputs": [],
   "source": []
  },
  {
   "cell_type": "code",
   "execution_count": 58,
   "metadata": {},
   "outputs": [
    {
     "data": {
      "text/plain": [
       "(5028, 905)"
      ]
     },
     "execution_count": 58,
     "metadata": {},
     "output_type": "execute_result"
    }
   ],
   "source": [
    "train.shape"
   ]
  },
  {
   "cell_type": "code",
   "execution_count": 186,
   "metadata": {},
   "outputs": [
    {
     "name": "stdout",
     "output_type": "stream",
     "text": [
      "Load data...\n",
      "Start training...\n",
      "[1]\tvalid_0's auc: 0.581605\tvalid_0's l2: 0.249359\n",
      "Training until validation scores don't improve for 5 rounds.\n",
      "[2]\tvalid_0's auc: 0.579764\tvalid_0's l2: 0.249212\n",
      "[3]\tvalid_0's auc: 0.581124\tvalid_0's l2: 0.248641\n",
      "[4]\tvalid_0's auc: 0.579764\tvalid_0's l2: 0.248517\n",
      "[5]\tvalid_0's auc: 0.590441\tvalid_0's l2: 0.247917\n",
      "[6]\tvalid_0's auc: 0.589899\tvalid_0's l2: 0.247794\n",
      "[7]\tvalid_0's auc: 0.590011\tvalid_0's l2: 0.247352\n",
      "[8]\tvalid_0's auc: 0.590031\tvalid_0's l2: 0.247248\n",
      "[9]\tvalid_0's auc: 0.590011\tvalid_0's l2: 0.246853\n",
      "[10]\tvalid_0's auc: 0.590031\tvalid_0's l2: 0.246766\n",
      "Early stopping, best iteration is:\n",
      "[5]\tvalid_0's auc: 0.590441\tvalid_0's l2: 0.247917\n",
      "Save model...\n",
      "The rmse of prediction is: 0.49791282746\n",
      "F-score: 0.477551020408\n",
      "Finish\n"
     ]
    },
    {
     "data": {
      "text/plain": [
       "array([ 0.50365752,  0.49806971,  0.50365752,  0.50365752,  0.49806971,\n",
       "        0.50999842,  0.50504342,  0.49806971,  0.48679119,  0.48679119])"
      ]
     },
     "execution_count": 186,
     "metadata": {},
     "output_type": "execute_result"
    }
   ],
   "source": [
    "# coding: utf-8\n",
    "# pylint: disable = invalid-name, C0111\n",
    "import json\n",
    "import lightgbm as lgb\n",
    "import pandas as pd\n",
    "import numpy\n",
    "from sklearn.metrics import mean_squared_error\n",
    "from sklearn.model_selection import GridSearchCV\n",
    "from sklearn.cross_validation import train_test_split\n",
    "from sklearn.metrics import f1_score\n",
    "\n",
    "# load or create your dataset\n",
    "print('Load data...')\n",
    "fulldataset = pd.read_csv('train.csv',sep=';')\n",
    "columns = ['cash_in_out','display_type','scanner_code_reader']\n",
    "fulldataset.drop(columns, inplace=True, axis=1)\n",
    "\n",
    "test2 = pd.read_csv('test.csv', sep=';')\n",
    "test2.drop(columns, inplace=True, axis=1)\n",
    "test2 = test2.values\n",
    "\n",
    "train, test = train_test_split(fulldataset, test_size=0.1, random_state=753)\n",
    "\n",
    "target = train['target'].values\n",
    "target_test = test['target'].values\n",
    "\n",
    "#df_train2 = df_train[['cardreader_error_by_day','status_count']]\n",
    "#columns = ['cash_in_out','display_type','scanner_code_reader']\n",
    "#train.drop(columns, inplace=True, axis=1)\n",
    "#train = train.values\n",
    "train = train[['cardreader_error_by_day','status_count']].values\n",
    "#train = lgb.Dataset('train.svm.txt')\n",
    "#train.save_binary('train.bin')\n",
    "\n",
    "#df_test2 = df_test[['cardreader_error_by_day','status_count']]\n",
    "#test.drop(columns, inplace=True, axis=1)\n",
    "#test = test.values\n",
    "test = test[['cardreader_error_by_day','status_count']].values\n",
    "# create dataset for lightgbm\n",
    "lgb_train = lgb.Dataset(train, target)\n",
    "lgb_eval = lgb.Dataset(test, target_test, reference=lgb_train)\n",
    "\n",
    "# specify your configurations as a dict\n",
    "params = {\n",
    "    'task': 'train',\n",
    "    'boosting_type': 'gbdt',\n",
    "    'objective': 'binary',\n",
    "    'metric': {'l2', 'auc'},\n",
    "    'num_leaves': 5,\n",
    "    'learning_rate': 0.05,\n",
    "    'feature_fraction': 0.9,\n",
    "    'bagging_fraction': 0.8,\n",
    "    'bagging_freq': 5,\n",
    "    'verbose': 0\n",
    "}\n",
    "print('Start training...')\n",
    "# train\n",
    "gbm = lgb.train(params,\n",
    "                lgb_train,\n",
    "                num_boost_round=20,\n",
    "                valid_sets=lgb_eval,\n",
    "                early_stopping_rounds=5)\n",
    "\n",
    "#gbm = lgb.train(params, lgb_train, num_boost_round=20)\n",
    "print('Save model...')\n",
    "# save model to file\n",
    "gbm.save_model('model.txt')\n",
    "#print('Start predicting...')\n",
    "# predict\n",
    "PREDICT = gbm.predict(test, num_iteration=gbm.best_iteration)\n",
    "# eval\n",
    "print('The rmse of prediction is:', mean_squared_error(target_test, PREDICT) ** 0.5)\n",
    "print('F-score:',f1_score(y_pred=numpy.around(PREDICT),y_true=target_test))\n",
    "\n",
    "print('Finish')\n",
    "PREDICT[0:10]"
   ]
  },
  {
   "cell_type": "code",
   "execution_count": 187,
   "metadata": {},
   "outputs": [
    {
     "data": {
      "text/plain": [
       "array([ 0.47192945,  0.47459209,  0.47459209,  0.47459209,  0.47459209,\n",
       "        0.47459209,  0.47459209,  0.47459209,  0.47459209,  0.47459209])"
      ]
     },
     "execution_count": 187,
     "metadata": {},
     "output_type": "execute_result"
    }
   ],
   "source": [
    "PREDICT = gbm.predict(test2, num_iteration=gbm.best_iteration)\n",
    "OUT=pd.DataFrame(PREDICT, columns=['PREDICT']) \n",
    "OUT.to_csv('OUT.csv', sep=';', encoding='utf-8')\n",
    "PREDICT[0:10]"
   ]
  },
  {
   "cell_type": "code",
   "execution_count": 189,
   "metadata": {},
   "outputs": [
    {
     "ename": "NameError",
     "evalue": "name 'cont_feats_idx' is not defined",
     "output_type": "error",
     "traceback": [
      "\u001b[0;31m---------------------------------------------------------------------------\u001b[0m",
      "\u001b[0;31mNameError\u001b[0m                                 Traceback (most recent call last)",
      "\u001b[0;32m<ipython-input-189-0c7b38e17af7>\u001b[0m in \u001b[0;36m<module>\u001b[0;34m()\u001b[0m\n\u001b[1;32m      3\u001b[0m \u001b[0mfinal_col_names\u001b[0m \u001b[0;34m=\u001b[0m \u001b[0mfulldataset\u001b[0m\u001b[0;34m.\u001b[0m\u001b[0mcolumns\u001b[0m\u001b[0;34m\u001b[0m\u001b[0m\n\u001b[1;32m      4\u001b[0m \u001b[0mfulldataset\u001b[0m \u001b[0;34m=\u001b[0m \u001b[0mfulldataset\u001b[0m\u001b[0;34m.\u001b[0m\u001b[0mvalues\u001b[0m\u001b[0;34m\u001b[0m\u001b[0m\n\u001b[0;32m----> 5\u001b[0;31m \u001b[0mfulldataset\u001b[0m\u001b[0;34m[\u001b[0m\u001b[0;34m:\u001b[0m\u001b[0;34m,\u001b[0m \u001b[0mcont_feats_idx\u001b[0m\u001b[0;34m]\u001b[0m \u001b[0;34m=\u001b[0m \u001b[0mscaler\u001b[0m\u001b[0;34m.\u001b[0m\u001b[0mfit_transform\u001b[0m\u001b[0;34m(\u001b[0m\u001b[0mfulldataset\u001b[0m\u001b[0;34m[\u001b[0m\u001b[0;34m:\u001b[0m\u001b[0;34m,\u001b[0m \u001b[0mcont_feats_idx\u001b[0m\u001b[0;34m]\u001b[0m\u001b[0;34m)\u001b[0m\u001b[0;34m\u001b[0m\u001b[0m\n\u001b[0m\u001b[1;32m      6\u001b[0m \u001b[0;34m\u001b[0m\u001b[0m\n\u001b[1;32m      7\u001b[0m \u001b[0mscaler_2\u001b[0m \u001b[0;34m=\u001b[0m \u001b[0mMinMaxScaler\u001b[0m\u001b[0;34m(\u001b[0m\u001b[0mfeature_range\u001b[0m\u001b[0;34m=\u001b[0m\u001b[0;34m(\u001b[0m\u001b[0;36m0\u001b[0m\u001b[0;34m,\u001b[0m \u001b[0;36m1\u001b[0m\u001b[0;34m)\u001b[0m\u001b[0;34m)\u001b[0m\u001b[0;34m\u001b[0m\u001b[0m\n",
      "\u001b[0;31mNameError\u001b[0m: name 'cont_feats_idx' is not defined"
     ]
    }
   ],
   "source": [
    "from sklearn.preprocessing import StandardScaler\n",
    "scaler = StandardScaler()\n",
    "final_col_names = fulldataset.columns\n",
    "fulldataset = fulldataset.values\n",
    "fulldataset[:, cont_feats_idx] = scaler.fit_transform(fulldataset[:, cont_feats_idx])\n",
    "\n",
    "scaler_2 = MinMaxScaler(feature_range=(0, 1))\n",
    "fulldataset[:, int_feats_idx] = scaler_2.fit_transform(fulldataset[:, int_feats_idx])"
   ]
  },
  {
   "cell_type": "code",
   "execution_count": 191,
   "metadata": {},
   "outputs": [
    {
     "ename": "TypeError",
     "evalue": "'numpy.ndarray' object is not callable",
     "output_type": "error",
     "traceback": [
      "\u001b[0;31m---------------------------------------------------------------------------\u001b[0m",
      "\u001b[0;31mTypeError\u001b[0m                                 Traceback (most recent call last)",
      "\u001b[0;32m<ipython-input-191-1a1d8c755f79>\u001b[0m in \u001b[0;36m<module>\u001b[0;34m()\u001b[0m\n\u001b[1;32m      1\u001b[0m \u001b[0;31m# Extract target before scaling\u001b[0m\u001b[0;34m\u001b[0m\u001b[0;34m\u001b[0m\u001b[0m\n\u001b[0;32m----> 2\u001b[0;31m \u001b[0mlabels\u001b[0m \u001b[0;34m=\u001b[0m \u001b[0mfulldataset\u001b[0m\u001b[0;34m(\u001b[0m\u001b[0;34m'TARGET'\u001b[0m\u001b[0;34m)\u001b[0m\u001b[0;34m\u001b[0m\u001b[0m\n\u001b[0m\u001b[1;32m      3\u001b[0m \u001b[0mlabels\u001b[0m \u001b[0;34m=\u001b[0m \u001b[0mlabels\u001b[0m\u001b[0;34m[\u001b[0m\u001b[0;34m:\u001b[0m\u001b[0mlen_train\u001b[0m\u001b[0;34m]\u001b[0m\u001b[0;34m\u001b[0m\u001b[0m\n\u001b[1;32m      4\u001b[0m \u001b[0;34m\u001b[0m\u001b[0m\n\u001b[1;32m      5\u001b[0m \u001b[0;31m# Reshape (one-hot)\u001b[0m\u001b[0;34m\u001b[0m\u001b[0;34m\u001b[0m\u001b[0m\n",
      "\u001b[0;31mTypeError\u001b[0m: 'numpy.ndarray' object is not callable"
     ]
    }
   ],
   "source": [
    "# Extract target before scaling\n",
    "labels = fulldataset.pop('TARGET')\n",
    "labels = labels[:len_train]\n",
    "\n",
    "# Reshape (one-hot)\n",
    "target = np.zeros([len(labels), len(np.unique(labels))])\n",
    "target[:, 0] = labels == 0\n",
    "target[:, 1] = labels == 1"
   ]
  },
  {
   "cell_type": "code",
   "execution_count": 29,
   "metadata": {
    "collapsed": true
   },
   "outputs": [],
   "source": []
  },
  {
   "cell_type": "code",
   "execution_count": null,
   "metadata": {},
   "outputs": [],
   "source": []
  },
  {
   "cell_type": "code",
   "execution_count": null,
   "metadata": {},
   "outputs": [],
   "source": []
  },
  {
   "cell_type": "code",
   "execution_count": null,
   "metadata": {},
   "outputs": [],
   "source": []
  },
  {
   "cell_type": "code",
   "execution_count": null,
   "metadata": {},
   "outputs": [],
   "source": []
  },
  {
   "cell_type": "code",
   "execution_count": null,
   "metadata": {
    "collapsed": true
   },
   "outputs": [],
   "source": []
  }
 ],
 "metadata": {
  "kernelspec": {
   "display_name": "Python 3",
   "language": "python",
   "name": "python3"
  },
  "language_info": {
   "codemirror_mode": {
    "name": "ipython",
    "version": 3
   },
   "file_extension": ".py",
   "mimetype": "text/x-python",
   "name": "python",
   "nbconvert_exporter": "python",
   "pygments_lexer": "ipython3",
   "version": "3.6.3"
  }
 },
 "nbformat": 4,
 "nbformat_minor": 2
}
