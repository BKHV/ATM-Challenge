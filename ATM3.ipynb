{
 "cells": [
  {
   "cell_type": "code",
   "execution_count": null,
   "metadata": {},
   "outputs": [],
   "source": [
    "import numpy as np\n",
    "import pandas as pd\n",
    "import lightgbm as lgb\n",
    "import lightgbm\n",
    "from sklearn.model_selection import GridSearchCV\n",
    "from sklearn.model_selection import train_test_split\n",
    "from sklearn.model_selection import KFold\n",
    "from sklearn.preprocessing import normalize\n",
    "\n",
    "train = pd.read_csv('train.csv',sep=';')\n",
    "columns = ['cash_in_out','display_type','scanner_code_reader','atm_id']\n",
    "train.drop(columns, inplace=True, axis=1)\n",
    "\n",
    "# get the labels\n",
    "y = train.target.values\n",
    "train.drop(['target'], inplace=True, axis=1)\n",
    "\n",
    "x = normalize(train.values)\n",
    "#\n",
    "# Create training and validation sets\n",
    "#\n",
    "x, x_test, y, y_test = train_test_split(x, y, test_size=0.2, random_state=42, stratify=y)\n",
    "#\n",
    "# Create the LightGBM data containers\n",
    "#\n",
    "\n",
    "#train_data = lightgbm.Dataset(x, label=y)\n",
    "#test_data = lightgbm.Dataset(x_test, label=y_test)\n",
    "\n",
    "\n",
    "#print(train_data.shape, test_data.shape, y.shape)\n",
    "\n",
    "#categoricals = ['cash_in_out','display_type']\n",
    "#indexes_of_categories = [train.columns.get_loc(col) for col in categoricals]\n",
    "\n",
    "gkf = KFold(n_splits=5, shuffle=True, random_state=42).split(X=x, y=y)\n",
    "\n",
    "param_grid = {\n",
    "    #'num_leaves': [31, 127],\n",
    "    #'reg_alpha': [0.1, 0.5],\n",
    "    #'min_data_in_leaf': [30, 50, 100, 300, 400],\n",
    "    'lambda_l1': [0, 1, 1.5],\n",
    "    'lambda_l2': [0, 1]\n",
    "    }\n",
    "\n",
    "#lgb_estimator = lgb.LGBMClassifier(boosting_type='gbdt',  objective='binary', num_boost_round=2000, learning_rate=0.01, metric='auc',categorical_feature=indexes_of_categories)\n",
    "lgb_estimator = lgb.LGBMClassifier(boosting_type='gbdt',  \n",
    "                                   objective='binary',  \n",
    "                                   learning_rate=0.01, \n",
    "                                   metric='auc')\n",
    "\n",
    "gsearch = GridSearchCV(estimator=lgb_estimator, param_grid=param_grid, cv=gkf)\n",
    "lgb_model = gsearch.fit(x, y)\n",
    "\n",
    "\n",
    "print(lgb_model.best_params_, lgb_model.best_score_)"
   ]
  },
  {
   "cell_type": "code",
   "execution_count": null,
   "metadata": {
    "collapsed": true
   },
   "outputs": [],
   "source": []
  }
 ],
 "metadata": {
  "kernelspec": {
   "display_name": "Python 3",
   "language": "python",
   "name": "python3"
  },
  "language_info": {
   "codemirror_mode": {
    "name": "ipython",
    "version": 3
   },
   "file_extension": ".py",
   "mimetype": "text/x-python",
   "name": "python",
   "nbconvert_exporter": "python",
   "pygments_lexer": "ipython3",
   "version": "3.6.3"
  }
 },
 "nbformat": 4,
 "nbformat_minor": 2
}
